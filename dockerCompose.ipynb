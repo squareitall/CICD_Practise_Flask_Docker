{
  "nbformat": 4,
  "nbformat_minor": 0,
  "metadata": {
    "colab": {
      "name": "dockerCompose.ipynb",
      "provenance": [],
      "collapsed_sections": []
    },
    "kernelspec": {
      "name": "python3",
      "display_name": "Python 3"
    },
    "language_info": {
      "name": "python"
    }
  },
  "cells": [
    {
      "cell_type": "code",
      "execution_count": null,
      "metadata": {
        "id": "961Z9Uk5oqPR"
      },
      "outputs": [],
      "source": [
        "import numpy as np"
      ]
    },
    {
      "cell_type": "markdown",
      "source": [
        "Docker compose for utilizing images for setting up a virtual machine\n",
        "\n",
        "\n",
        "For consistency and scalability of the project we require that we are running multiple computation based machines with similar configuration\n",
        "\n",
        "\n",
        "> Configuration includes same libraries and same version of particular libraries\n",
        "\n",
        "> > At times in a data science project we ought to use same version of data files for training our models\n",
        "Pointers at the same location of data must be used across multiple data files\n",
        "\n",
        "Instead of packaging everything together in a structure file like YAML\n",
        "**Packaging incldes mention of required libraries, data and the model-modules**\n",
        "We can create an image of the machine that we intend to run our model on \n",
        "Then host this image on some server (possibly that is known as docker registry) and pull it for our utility purposes.\n",
        "\n",
        "\n",
        "## Images vs container \n",
        "<a url=https://www.geeksforgeeks.org/difference-between-docker-image-and-container/>Geek for geeks</a> gave a beautiful description of differebce between image and container\n",
        "Image can be considered as never changing class based template of which multiple container instances can be created and used.\n",
        "\n",
        "\n",
        "## Docker Compose\n",
        "Docker compose can help create and edit image based txt files with GUIs\n",
        " \n",
        "Side bar \n",
        "\n",
        ">>>https://docs.microsoft.com/en-us/windows/wsl/install-manual#step-4---download-the-linux-kernel-update-package\n",
        "\n",
        "Need to download this linux wsl (window subsystem for linux) \n",
        "\n",
        "Side bar end\n",
        "\n",
        "\n",
        "\n",
        "\n",
        "\n",
        "\n",
        "\n",
        "\n",
        "\n"
      ],
      "metadata": {
        "id": "06X3rh0Oo1JU"
      }
    },
    {
      "cell_type": "code",
      "source": [
        ""
      ],
      "metadata": {
        "id": "clx3R88xaFAd"
      },
      "execution_count": null,
      "outputs": []
    },
    {
      "cell_type": "markdown",
      "source": [
        "## date 05/07/2022\n",
        "I created an environment from scratch which is like a computing machine/instance and it has got python and some initial dependencies installed \n",
        "\n",
        "However, we just intend to install python and then a particular ide that we intend to use which is not necessary too \n",
        "\n",
        "Then I will install required packages of my application that majorly involves flask module\n",
        "\n",
        "I have a .py file that majorly perform a function and then w eneed to formulate docker file that call for parent image and enlists execuatble command line by line\n",
        "\n",
        "\n"
      ],
      "metadata": {
        "id": "_mN0py-EaFQO"
      }
    },
    {
      "cell_type": "markdown",
      "source": [
        "## Reference\n",
        "\n",
        "\n",
        "\n",
        "Ways to build a docker image\n",
        "\n",
        "> https://docs.docker.com/engine/reference/commandline/build/\n",
        "\n",
        "\n",
        "\n",
        "\n",
        "We have a jupyter based image that can be pulled and run to set upa jupyter environment with scikit learn based modules installed \n",
        "\n",
        "\n",
        "> https://jupyter-docker-stacks.readthedocs.io/en/latest/index.html\n",
        "\n"
      ],
      "metadata": {
        "id": "X3V2fIiLsWfY"
      }
    },
    {
      "cell_type": "code",
      "source": [
        ""
      ],
      "metadata": {
        "id": "CF-OC7rjspfq"
      },
      "execution_count": null,
      "outputs": []
    }
  ]
}