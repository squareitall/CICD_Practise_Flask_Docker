{
  "nbformat": 4,
  "nbformat_minor": 0,
  "metadata": {
    "colab": {
      "name": "dockerCompose.ipynb",
      "provenance": [],
      "collapsed_sections": []
    },
    "kernelspec": {
      "name": "python3",
      "display_name": "Python 3"
    },
    "language_info": {
      "name": "python"
    }
  },
  "cells": [
    {
      "cell_type": "code",
      "execution_count": null,
      "metadata": {
        "id": "961Z9Uk5oqPR"
      },
      "outputs": [],
      "source": [
        "import numpy as np"
      ]
    },
    {
      "cell_type": "markdown",
      "source": [
        "Docker compose for utilizing images for setting up a virtual machine\n",
        "\n",
        "\n",
        "For consistency and scalability of the project we require that we are running multiple computation based machines with similar configuration\n",
        "\n",
        "\n",
        "> Configuration includes same libraries and same version of particular libraries\n",
        "\n",
        "> > At times in a data science project we ought to use same version of data files for training our models\n",
        "Pointers at the same location of data must be used across multiple data files\n",
        "\n",
        "Instead of packaging everything together in a structure file like YAML\n",
        "**Packaging incldes mention of required libraries, data and the model-modules**\n",
        "We can create an image of the machine that we intend to run our model on \n",
        "Then host this image on some server (possibly that is known as docker registry) and pull it for our utility purposes.\n",
        "\n",
        "\n",
        "## Images vs container \n",
        "<a url=https://www.geeksforgeeks.org/difference-between-docker-image-and-container/>Geek for geeks</a> gave a beautiful description of differebce between image and container\n",
        "Image can be considered as never changing class based template of which multiple container instances can be created and used.\n",
        "\n",
        "\n",
        "## Docker Compose\n",
        "Docker compose can help create and edit image based txt files with GUIs\n",
        " \n",
        "Side bar \n",
        "\n",
        ">>>https://docs.microsoft.com/en-us/windows/wsl/install-manual#step-4---download-the-linux-kernel-update-package\n",
        "\n",
        "Need to download this linux wsl (window subsystem for linux) \n",
        "\n",
        "Side bar end\n",
        "\n",
        "\n",
        "\n",
        "\n",
        "\n",
        "\n",
        "\n",
        "\n",
        "\n"
      ],
      "metadata": {
        "id": "06X3rh0Oo1JU"
      }
    },
    {
      "cell_type": "code",
      "source": [
        ""
      ],
      "metadata": {
        "id": "CF-OC7rjspfq"
      },
      "execution_count": null,
      "outputs": []
    }
  ]
}